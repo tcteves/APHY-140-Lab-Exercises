{
 "cells": [
  {
   "cell_type": "markdown",
   "id": "fca3aa1f-e3cf-4977-a42b-f1f5496b5940",
   "metadata": {},
   "source": [
    "# APHY 140 Exer 6 (Part 2)"
   ]
  },
  {
   "cell_type": "markdown",
   "id": "169308a2-689b-4f3e-948b-4f02fde686be",
   "metadata": {},
   "source": [
    "Implemented by: Kernel Godwin Enriquez, Francis Lance Leal, and Timothy Allen Teves"
   ]
  },
  {
   "cell_type": "markdown",
   "id": "48a6af9e-5b9b-4a54-a813-e7b5b1ea6bee",
   "metadata": {},
   "source": [
    "## Lesson 3. Calculate and Plot Difference Normalized Burn Ration (dNBR) using the Landsat 8 Remote Sensing Data in Python"
   ]
  },
  {
   "cell_type": "markdown",
   "id": "53bc3983-6171-44e9-8579-1a554d30b141",
   "metadata": {},
   "source": [
    " ### Loading all the required Python libraries"
   ]
  },
  {
   "cell_type": "code",
   "execution_count": null,
   "id": "3c476cd0-e66b-478c-82dc-314e3ce52330",
   "metadata": {},
   "outputs": [],
   "source": [
    "import os\n",
    "from glob import glob\n",
    "\n",
    "import matplotlib.pyplot as plt\n",
    "from matplotlib import patches as mpatches\n",
    "from matplotlib.colors import ListedColormap\n",
    "from matplotlib import colors\n",
    "import seaborn as sns\n",
    "import numpy as np\n",
    "import numpy.ma as ma\n",
    "from shapely.geometry import mapping, box\n",
    "from rasterio.plot import plotting_extent\n",
    "import xarray as xr\n",
    "import rioxarray as rxr\n",
    "import geopandas as gpd\n",
    "import earthpy as et\n",
    "import earthpy.spatial as es\n",
    "import earthpy.plot as ep\n",
    "\n",
    "# Prettier plotting with seaborn\n",
    "sns.set_style('white')\n",
    "sns.set(font_scale=1.5)\n",
    "\n",
    "# Set working directory\n",
    "os.chdir(os.path.join(et.io.HOME, \n",
    "                      'earth-analytics', \n",
    "                      'data'))"
   ]
  },
  {
   "cell_type": "markdown",
   "id": "33ec4957-d775-465b-b660-3c5f6fa24053",
   "metadata": {},
   "source": [
    "### Preparation of Landsat pre-fire and post-fire data for the calculation of NBR"
   ]
  },
  {
   "cell_type": "code",
   "execution_count": null,
   "id": "bfb32960-ba59-4286-b0f8-c3ca013f5291",
   "metadata": {},
   "outputs": [],
   "source": [
    "def combine_tifs(tif_list):\n",
    "    \"\"\"A function that combines a list of tifs in the same CRS\n",
    "    and of the same extent into an xarray object\n",
    "\n",
    "    Parameters\n",
    "    ----------\n",
    "    tif_list : list\n",
    "        A list of paths to the tif files that you wish to combine.\n",
    "\n",
    "    Returns\n",
    "    -------\n",
    "    An xarray object with all of the tif files in the listmerged into \n",
    "    a single object.\n",
    "\n",
    "    \"\"\"\n",
    "\n",
    "    out_xr = []\n",
    "    for i, tif_path in enumerate(tif_list):\n",
    "        out_xr.append(rxr.open_rasterio(tif_path, masked=True).squeeze())\n",
    "        out_xr[i][\"band\"] = i+1\n",
    "\n",
    "    return xr.concat(out_xr, dim=\"band\")"
   ]
  },
  {
   "cell_type": "markdown",
   "id": "d29c031e-6bc2-4c08-9e1a-9874062ec215",
   "metadata": {},
   "source": [
    "### Post-Fire Data:"
   ]
  },
  {
   "cell_type": "code",
   "execution_count": null,
   "id": "0fc4e224-f681-47f2-8c2d-42a3cb6f7618",
   "metadata": {},
   "outputs": [],
   "source": [
    "# Import and stack post fire Landsat data - notice you are only stacking bands 5-7\n",
    "all_landsat_bands_path = glob(os.path.join(\"cold-springs-fire\",\n",
    "                                           \"landsat_collect\",\n",
    "                                           \"LC080340322016072301T1-SC20180214145802\",\n",
    "                                           \"crop\",\n",
    "                                           \"*band[5-7]*.tif\"))\n",
    "\n",
    "all_landsat_bands_path.sort()\n",
    "\n",
    "landsat_post_fire = combine_tifs(all_landsat_bands_path)\n",
    "\n",
    "extent_landsat = plotting_extent(\n",
    "    landsat_post_fire[0].values, landsat_post_fire.rio.transform())\n",
    "\n",
    "landsat_post_fire"
   ]
  },
  {
   "cell_type": "code",
   "execution_count": null,
   "id": "d32a8ba1-e31e-4f38-bac6-ffae4c0d0915",
   "metadata": {},
   "outputs": [],
   "source": [
    "# Open fire boundary layer and reproject it to match the Landsat data\n",
    "fire_boundary_path = os.path.join(\"cold-springs-fire\",\n",
    "                                  \"vector_layers\",\n",
    "                                  \"fire-boundary-geomac\",\n",
    "                                  \"co_cold_springs_20160711_2200_dd83.shp\")\n",
    "\n",
    "fire_boundary = gpd.read_file(fire_boundary_path)\n",
    "\n",
    "# If the CRS are not the same, be sure to reproject\n",
    "fire_bound_utmz13 = fire_boundary.to_crs(landsat_post_fire.rio.crs)"
   ]
  },
  {
   "cell_type": "code",
   "execution_count": null,
   "id": "44ac7fac-130d-4441-845f-9a3afc5d77fb",
   "metadata": {
    "scrolled": true
   },
   "outputs": [],
   "source": [
    "# Calculate post-fire NBR & plot\n",
    "landsat_postfire_nbr = (\n",
    "    landsat_post_fire[0]-landsat_post_fire[2]) / (landsat_post_fire[0]+landsat_post_fire[2])\n",
    "\n",
    "fig, ax = plt.subplots(figsize=(12, 6))\n",
    "\n",
    "ep.plot_bands(landsat_postfire_nbr,\n",
    "              cmap='PiYG',\n",
    "              vmin=-1,\n",
    "              vmax=1,\n",
    "              ax=ax,\n",
    "              extent=extent_landsat,\n",
    "              title=\"Landsat derived Normalized Burn Ratio\\n 23 July 2016 \\n Post Cold Springs Fire\")\n",
    "\n",
    "fire_bound_utmz13.plot(ax=ax,\n",
    "                       color='None',\n",
    "                       edgecolor='black',\n",
    "                       linewidth=2)\n",
    "plt.show()\n",
    "print (\"Figure 1. Normalized burn ratio (NBR) calculated for the post-Cold Springs fire image for July 23, 2016 from Landsat.\")"
   ]
  },
  {
   "cell_type": "markdown",
   "id": "353ede13-d13c-4e14-80f4-9fdd18a383a2",
   "metadata": {},
   "source": [
    "The Landsat-derived Normalized Burn Ratio (NBR) plot captures the immediate aftermath of the Cold Springs Fire in Colorado and provides a spatial depiction of burn severity across the landscape. The use of NBR allows for the effective detection of burned areas by comparing near-infrared (NIR) and shortwave infrared (SWIR) reflectance, leveraging the fact that healthy vegetation reflects strongly in the NIR and poorly in the SWIR, while burned areas show the opposite pattern. In the figure, magenta colors dominate the central portion enclosed by a boundary (black line), clearly marking the fire-affected zone. These negative NBR values indicate strong SWIR reflectance—typical of charred earth and vegetation. In contrast, the surrounding areas outside the burn perimeter exhibit various shades of green, with NBR values approaching +1, which are indicative of unburned and healthy vegetation. The sharp boundary also suggests a relatively well-defined fire perimeter, which may help guide field validation and future recovery monitoring. \n",
    "\n",
    "It is also worth noting that while the NBR is highly effective in mapping fire scars, it can be sensitive to water bodies, which may also appear as low NBR values. However, the coherent shape and location of the affected region suggest a true fire scar rather than water-related false positives.\n"
   ]
  },
  {
   "cell_type": "markdown",
   "id": "fc16bc9e-b1ae-41e9-b88c-2bf358d6cce0",
   "metadata": {},
   "source": [
    "### Pre-Fire Data:"
   ]
  },
  {
   "cell_type": "code",
   "execution_count": null,
   "id": "a28a81e0-c4d5-439a-aba5-0640739b6ab9",
   "metadata": {
    "scrolled": true
   },
   "outputs": [],
   "source": [
    "# Import and stack pre-fire Landsat data\n",
    "pre_fire_band_paths=glob(os.path.join(\"cold-springs-fire\",\n",
    "                                        \"landsat_collect\",\n",
    "                                        \"LC080340322016070701T1-SC20180214145604\",\n",
    "                                        \"crop\",\n",
    "                                        \"*band[5-7]*.tif\"))\n",
    "pre_fire_band_paths.sort()\n",
    "\n",
    "landsat_pre_fire = combine_tifs(pre_fire_band_paths)\n",
    "\n",
    "# Calculate pre-fire NBR\n",
    "landsat_prefire_nbr = (landsat_pre_fire[0] - landsat_pre_fire[2]) / (landsat_pre_fire[0] + landsat_pre_fire[2])\n",
    "\n",
    "# Plot the result\n",
    "fig, ax = plt.subplots(figsize=(12, 6))\n",
    "ep.plot_bands(landsat_prefire_nbr,\n",
    "              cmap='PiYG',\n",
    "              vmin=-1,\n",
    "              vmax=1,\n",
    "              ax=ax,\n",
    "              extent=extent_landsat,\n",
    "              title=\"Landsat derived Normalized Burn Ratio\\n 7 July 2016 \\n Pre Cold Springs Fire\")\n",
    "\n",
    "fire_bound_utmz13.plot(ax=ax,\n",
    "                       color='None',\n",
    "                       edgecolor='black',\n",
    "                       linewidth=2)\n",
    "plt.show()\n",
    "print (\"Figure 2. Normalized burn ratio (NBR) calculated for the pre-Cold Springs fire image from Landsat.\")"
   ]
  },
  {
   "cell_type": "markdown",
   "id": "4ba1688a-d79c-4fb1-8644-659a77fa327b",
   "metadata": {},
   "source": [
    "The calculated Normalized Burn Ratio (NBR) is depicted in Figure 2. It shows the same outline of the area that was affected by the fire. Comparing it with Figure 1 which was the aftermath of the fire, the NBR values were above 0 indicating healthy vegetation. With this, the Pre-Cold Springs Fire shall be the foundation of the effect of the burning resulting in the Post-Cold Springs Fire in which they are related to dNBR as pre fire data minus the post fire data. "
   ]
  },
  {
   "cell_type": "code",
   "execution_count": null,
   "id": "61e75ed6-0b82-4fa9-92fe-154061ef5bd6",
   "metadata": {},
   "outputs": [],
   "source": [
    "# Are the before and after data the same shape?\n",
    "landsat_pre_fire.shape == landsat_post_fire.shape"
   ]
  },
  {
   "cell_type": "markdown",
   "id": "dd665d7f-b334-46f1-8a60-af9645b64ba0",
   "metadata": {},
   "source": [
    "### Calculation for the Difference Normalized Burn Ratio (dNBR)"
   ]
  },
  {
   "cell_type": "code",
   "execution_count": null,
   "id": "39313b55-b40b-461b-ad35-5862721e097d",
   "metadata": {
    "scrolled": true
   },
   "outputs": [],
   "source": [
    "# Calculate dnbr\n",
    "dnbr_landsat = landsat_prefire_nbr - landsat_postfire_nbr\n",
    "dnbr_landsat"
   ]
  },
  {
   "cell_type": "markdown",
   "id": "92a3a39e-e75c-46a1-8fd6-9bbc8b028d49",
   "metadata": {},
   "source": [
    "### Classification of different dNBR range of values"
   ]
  },
  {
   "attachments": {
    "18ea256a-3eef-41e8-a6bf-7a7d83ebb84e.png": {
     "image/png": "[encoded data removed]"
    }
   },
   "cell_type": "markdown",
   "id": "78202ae4-0116-4360-90c1-2cfb0622ca48",
   "metadata": {},
   "source": [
    "![image.png](attachment:18ea256a-3eef-41e8-a6bf-7a7d83ebb84e.png)"
   ]
  },
  {
   "cell_type": "code",
   "execution_count": null,
   "id": "a4db6821-183e-4e0e-babb-6bc632ded220",
   "metadata": {},
   "outputs": [],
   "source": [
    "# Define dNBR classification bins\n",
    "dnbr_class_bins = [-np.inf, -.1, .1, .27, .66, np.inf]\n",
    "\n",
    "#dnbr_landsat_class = np.digitize(dnbr_landsat, dnbr_class_bins)\n",
    "\n",
    "dnbr_landsat_class = xr.apply_ufunc(np.digitize,\n",
    "                                    dnbr_landsat,\n",
    "                                    dnbr_class_bins)\n",
    "dnbr_landsat_class"
   ]
  },
  {
   "cell_type": "code",
   "execution_count": null,
   "id": "0b1a7144-af70-4577-b5df-4f4eca1c4b80",
   "metadata": {},
   "outputs": [],
   "source": [
    "dnbr_cat_names = [\"Enhanced Regrowth\",\n",
    "                  \"Unburned\",\n",
    "                  \"Low Severity\",\n",
    "                  \"Moderate Severity\",\n",
    "                  \"High Severity\"]\n",
    "\n",
    "nbr_colors = [\"g\",\n",
    "              \"yellowgreen\",\n",
    "              \"peachpuff\",\n",
    "              \"coral\",\n",
    "              \"maroon\"]\n",
    "nbr_cmap = ListedColormap(nbr_colors)"
   ]
  },
  {
   "cell_type": "code",
   "execution_count": null,
   "id": "b211f26c-73b7-4915-ab73-60697502f2c5",
   "metadata": {
    "scrolled": true
   },
   "outputs": [],
   "source": [
    "# Plot the data with a custom legend\n",
    "dnbr_landsat_class_plot = ma.masked_array(\n",
    "    dnbr_landsat_class.values, dnbr_landsat_class.isnull())\n",
    "\n",
    "fig, ax = plt.subplots(figsize=(10, 8))\n",
    "\n",
    "fire_bound_utmz13.plot(ax=ax,\n",
    "                       color='None',\n",
    "                       edgecolor='black',\n",
    "                       linewidth=2)\n",
    "\n",
    "classes = np.unique(dnbr_landsat_class_plot)\n",
    "classes = classes.tolist()[:5]\n",
    "\n",
    "ep.plot_bands(dnbr_landsat_class_plot,\n",
    "              cmap=nbr_cmap,\n",
    "              vmin=1,\n",
    "              vmax=5,\n",
    "              title=\"Landsat dNBR - Cold Spring Fire Site \\n July 7, 2016 - July 23, 2016\",\n",
    "              cbar=False,\n",
    "              scale=False,\n",
    "              extent=extent_landsat,\n",
    "              ax=ax)\n",
    "\n",
    "ep.draw_legend(im_ax=ax.get_images()[0],\n",
    "               classes=classes,\n",
    "               titles=dnbr_cat_names)\n",
    "\n",
    "plt.show()\n",
    "print (\"Figure 4. Classified difference normalized burn ratio (dNBR) calculated for the Cold Springs fire images from Landsat, with legend created using matplotlib.\")"
   ]
  },
  {
   "cell_type": "markdown",
   "id": "0aba2ee4-34f9-4a28-9110-86929aea5185",
   "metadata": {},
   "source": [
    "The result of the difference between the pre fire and post fire was calculated. The result of dNBR was classified by the degree of severity based on the range values of dNBR of the raster output. The function used for this was ‘np.digitize()’ in order to align the values with the classification. It was easier to visualize the data as it efficiently assigns pixels to a class which was plotted later on."
   ]
  },
  {
   "cell_type": "markdown",
   "id": "f0465983-c1b4-4872-9926-c57ddc2f9141",
   "metadata": {},
   "source": [
    "### Calculation of the Total Area of Burned Area"
   ]
  },
  {
   "cell_type": "code",
   "execution_count": null,
   "id": "490f676e-e2fe-4908-9eb9-29b471d1ea61",
   "metadata": {},
   "outputs": [],
   "source": [
    "# To calculate area, multiply:\n",
    "# number of pixels in each bin by image resolution\n",
    "# Result will be in total square meters\n",
    "\n",
    "landsat_pixel = landsat_pre_fire.rio.resolution(\n",
    ")[0] * landsat_pre_fire.rio.resolution()[0]\n",
    "\n",
    "burned_landsat = (dnbr_landsat_class == 5).sum()\n",
    "burned_landsat = np.multiply(burned_landsat, landsat_pixel).values\n",
    "\n",
    "print(\"Landsat Severe Burn Area:\", burned_landsat)"
   ]
  },
  {
   "cell_type": "markdown",
   "id": "3006f3f2-d44b-42ff-9072-139617685d30",
   "metadata": {},
   "source": [
    "## Extra Lessons:"
   ]
  },
  {
   "cell_type": "markdown",
   "id": "adfa423b-d38e-441c-940d-4c4fb0e6123f",
   "metadata": {},
   "source": [
    "### Creating a Color Bar Legend"
   ]
  },
  {
   "cell_type": "code",
   "execution_count": null,
   "id": "f9f7491d-bc2e-4a43-913d-3cce56b5bc3b",
   "metadata": {},
   "outputs": [],
   "source": [
    "# Grab raster unique values (classes)\n",
    "values = np.unique(dnbr_landsat_class).tolist()\n",
    "\n",
    "# Add another index value because for n categories\n",
    "# you need n+1 values to create bins\n",
    "values = [0] + values\n",
    "\n",
    "# Make a color map of fixed colors\n",
    "nbr_colors = [\"g\", \"yellowgreen\", \"peachpuff\", \"coral\", \"maroon\"]\n",
    "nbr_cmap = ListedColormap(nbr_colors)\n",
    "\n",
    "# But the goal is the identify the MIDDLE point\n",
    "# of each bin to create a centered tick\n",
    "bounds = [((a + b) / 2) for a, b in zip(values[:-1], values[1::1])] + [5.5]\n",
    "\n",
    "# Define normalization\n",
    "norm = colors.BoundaryNorm(bounds, nbr_cmap.N)"
   ]
  },
  {
   "cell_type": "code",
   "execution_count": null,
   "id": "262430b0-6af9-4a02-b1d5-2a8b3c0868fc",
   "metadata": {
    "scrolled": true
   },
   "outputs": [],
   "source": [
    "# Plot the data\n",
    "fig, ax = plt.subplots(figsize=(10, 8))\n",
    "\n",
    "ep.plot_bands(dnbr_landsat_class,\n",
    "              ax=ax,\n",
    "              cmap=nbr_cmap,\n",
    "              norm=norm,\n",
    "              cbar=False)\n",
    "\n",
    "cbar = ep.colorbar(ax.get_images()[0])\n",
    "\n",
    "cbar.set_ticks(np.unique(dnbr_landsat_class))\n",
    "cbar.set_ticklabels(dnbr_cat_names)\n",
    "ax.set_title(\"Landsat dNBR - Cold Spring Fire Site \\n June 22, 2017 - July 24, 2017\",\n",
    "             fontsize=16)\n",
    "\n",
    "# Turn off ticks\n",
    "ax.set_axis_off()\n",
    "plt.show()\n",
    "print (\"Figure 4. Landsat dNBR - Cold Spring Fire Site\")"
   ]
  },
  {
   "cell_type": "markdown",
   "id": "aa272249-d0d1-43fa-9ec7-22fda927b619",
   "metadata": {},
   "source": [
    "In order to visualize the dNBR data, the output was classified into discrete colormaps under different degrees of severity levels. This shows that this method was able to categorize and manipulate the data array in order to plot the classified burn severity map and customize both the visual appearance that would help in producing correct interpretation.\n"
   ]
  },
  {
   "cell_type": "markdown",
   "id": "cd621368-d3e9-452b-b3da-b1d20fdce7f7",
   "metadata": {},
   "source": [
    "### Exporting dNBR Raster to Geotiff"
   ]
  },
  {
   "cell_type": "code",
   "execution_count": null,
   "id": "bebed3ff-8964-4d73-9b6c-465d1c341268",
   "metadata": {},
   "outputs": [],
   "source": [
    "# Create a path to export the data too\n",
    "dnbr_path = os.path.join(\"cold-springs-fire\", \"outputs\", \"dnbr_landsat.tif\")\n",
    "\n",
    "# Export the data as int8\n",
    "dnbr_landsat_class.rio.to_raster(dnbr_path, dtype=\"int8\")\n",
    "\n",
    "# Open and view the exported data\n",
    "# Note the default datatype to open a raster as is float32!\n",
    "rxr.open_rasterio(dnbr_path).squeeze()"
   ]
  },
  {
   "cell_type": "code",
   "execution_count": null,
   "id": "fe7d3ebc-a411-4694-bd35-17d40c0950ad",
   "metadata": {},
   "outputs": [],
   "source": [
    "# Viewing the output TIFF file\n",
    "tif_path = \"cold-springs-fire/outputs/dnbr_landsat.tif\"\n",
    "tif_data = rxr.open_rasterio(tif_path, masked=True).squeeze()\n",
    "plt.figure(figsize=(10, 6))\n",
    "plt.imshow(tif_data, cmap=\"RdYlGn_r\")\n",
    "plt.title(\"TIFF Image\")\n",
    "plt.axis(\"off\")\n",
    "plt.colorbar(label=\"Pixel Values\")\n",
    "plt.show()"
   ]
  }
 ],
 "metadata": {
  "kernelspec": {
   "display_name": "Python 3 (ipykernel)",
   "language": "python",
   "name": "python3"
  },
  "language_info": {
   "codemirror_mode": {
    "name": "ipython",
    "version": 3
   },
   "file_extension": ".py",
   "mimetype": "text/x-python",
   "name": "python",
   "nbconvert_exporter": "python",
   "pygments_lexer": "ipython3",
   "version": "3.12.7"
  }
 },
 "nbformat": 4,
 "nbformat_minor": 5
}
